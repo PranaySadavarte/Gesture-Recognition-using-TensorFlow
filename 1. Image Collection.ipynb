{
 "cells": [
  {
   "cell_type": "markdown",
   "metadata": {},
   "source": [
    "# 1. Import Dependencies"
   ]
  },
  {
   "cell_type": "code",
   "execution_count": 1,
   "metadata": {},
   "outputs": [
    {
     "name": "stdout",
     "output_type": "stream",
     "text": [
      "Collecting opencv-python\n",
      "  Using cached opencv_python-4.6.0.66-cp36-abi3-win_amd64.whl (35.6 MB)\n",
      "Collecting numpy>=1.17.3\n",
      "  Using cached numpy-1.22.4-cp39-cp39-win_amd64.whl (14.7 MB)\n",
      "Installing collected packages: numpy, opencv-python\n",
      "Successfully installed numpy-1.22.4 opencv-python-4.6.0.66\n"
     ]
    }
   ],
   "source": [
    "!pip install opencv-python"
   ]
  },
  {
   "cell_type": "code",
   "execution_count": 2,
   "metadata": {},
   "outputs": [],
   "source": [
    "# Import opencv\n",
    "import cv2 \n",
    "\n",
    "# Import uuid\n",
    "import uuid\n",
    "\n",
    "# Import Operating System\n",
    "import os\n",
    "\n",
    "# Import time\n",
    "import time"
   ]
  },
  {
   "cell_type": "markdown",
   "metadata": {},
   "source": [
    "# 2. Define Images to Collect"
   ]
  },
  {
   "cell_type": "code",
   "execution_count": 3,
   "metadata": {},
   "outputs": [],
   "source": [
    "labels = ['thumbsup', 'thumbsdown', 'thankyou', 'livelong']\n",
    "number_imgs = 5"
   ]
  },
  {
   "cell_type": "markdown",
   "metadata": {},
   "source": [
    "# 3. Setup Folders "
   ]
  },
  {
   "cell_type": "code",
   "execution_count": 4,
   "metadata": {},
   "outputs": [],
   "source": [
    "IMAGES_PATH = os.path.join('Tensorflow', 'workspace', 'images', 'collectedimages')"
   ]
  },
  {
   "cell_type": "code",
   "execution_count": 5,
   "metadata": {},
   "outputs": [],
   "source": [
    "if not os.path.exists(IMAGES_PATH):\n",
    "    if os.name == 'posix':\n",
    "        !mkdir -p {IMAGES_PATH}\n",
    "    if os.name == 'nt':\n",
    "         !mkdir {IMAGES_PATH}\n",
    "for label in labels:\n",
    "    path = os.path.join(IMAGES_PATH, label)\n",
    "    if not os.path.exists(path):\n",
    "        !mkdir {path}"
   ]
  },
  {
   "cell_type": "markdown",
   "metadata": {},
   "source": [
    "# 4. Capture Images"
   ]
  },
  {
   "cell_type": "code",
   "execution_count": 6,
   "metadata": {},
   "outputs": [
    {
     "name": "stdout",
     "output_type": "stream",
     "text": [
      "Collecting images for thumbsup\n",
      "Collecting image 0\n",
      "Collecting image 1\n",
      "Collecting image 2\n",
      "Collecting image 3\n",
      "Collecting image 4\n",
      "Collecting images for thumbsdown\n",
      "Collecting image 0\n",
      "Collecting image 1\n",
      "Collecting image 2\n",
      "Collecting image 3\n",
      "Collecting image 4\n",
      "Collecting images for thankyou\n",
      "Collecting image 0\n",
      "Collecting image 1\n",
      "Collecting image 2\n",
      "Collecting image 3\n",
      "Collecting image 4\n",
      "Collecting images for livelong\n",
      "Collecting image 0\n",
      "Collecting image 1\n",
      "Collecting image 2\n",
      "Collecting image 3\n",
      "Collecting image 4\n"
     ]
    }
   ],
   "source": [
    "for label in labels:\n",
    "    cap = cv2.VideoCapture(0)\n",
    "    print('Collecting images for {}'.format(label))\n",
    "    time.sleep(5)\n",
    "    for imgnum in range(number_imgs):\n",
    "        print('Collecting image {}'.format(imgnum))\n",
    "        ret, frame = cap.read()\n",
    "        imgname = os.path.join(IMAGES_PATH,label,label+'.'+'{}.jpg'.format(str(uuid.uuid1())))\n",
    "        cv2.imwrite(imgname, frame)\n",
    "        cv2.imshow('frame', frame)\n",
    "        time.sleep(2)\n",
    "\n",
    "        if cv2.waitKey(1) & 0xFF == ord('q'):\n",
    "            break\n",
    "cap.release()\n",
    "cv2.destroyAllWindows()"
   ]
  },
  {
   "cell_type": "markdown",
   "metadata": {},
   "source": [
    "# 5. Image Labelling"
   ]
  },
  {
   "cell_type": "code",
   "execution_count": 7,
   "metadata": {},
   "outputs": [
    {
     "name": "stdout",
     "output_type": "stream",
     "text": [
      "Collecting pyqt5\n",
      "  Using cached PyQt5-5.15.6-cp36-abi3-win_amd64.whl (6.7 MB)\n",
      "Collecting lxml\n",
      "  Using cached lxml-4.9.0-cp39-cp39-win_amd64.whl (3.6 MB)\n",
      "Collecting PyQt5-sip<13,>=12.8\n",
      "  Using cached PyQt5_sip-12.10.1-cp39-cp39-win_amd64.whl (77 kB)\n",
      "Collecting PyQt5-Qt5>=5.15.2\n",
      "  Using cached PyQt5_Qt5-5.15.2-py3-none-win_amd64.whl (50.1 MB)\n",
      "Installing collected packages: PyQt5-Qt5, PyQt5-sip, lxml, pyqt5\n",
      "Successfully installed PyQt5-Qt5-5.15.2 PyQt5-sip-12.10.1 lxml-4.9.0 pyqt5-5.15.6\n"
     ]
    }
   ],
   "source": [
    "!pip install --upgrade pyqt5 lxml"
   ]
  },
  {
   "cell_type": "code",
   "execution_count": 8,
   "metadata": {},
   "outputs": [],
   "source": [
    "LABELIMG_PATH = os.path.join('Tensorflow', 'labelimg')"
   ]
  },
  {
   "cell_type": "code",
   "execution_count": 9,
   "metadata": {},
   "outputs": [
    {
     "name": "stderr",
     "output_type": "stream",
     "text": [
      "Cloning into 'Tensorflow\\labelimg'...\n"
     ]
    }
   ],
   "source": [
    "if not os.path.exists(LABELIMG_PATH):\n",
    "    !mkdir {LABELIMG_PATH}\n",
    "    !git clone https://github.com/tzutalin/labelImg {LABELIMG_PATH}"
   ]
  },
  {
   "cell_type": "code",
   "execution_count": 10,
   "metadata": {},
   "outputs": [],
   "source": [
    "if os.name == 'posix':\n",
    "    !make qt5py3\n",
    "if os.name =='nt':\n",
    "    !cd {LABELIMG_PATH} && pyrcc5 -o libs/resources.py resources.qrc"
   ]
  },
  {
   "cell_type": "code",
   "execution_count": 11,
   "metadata": {},
   "outputs": [
    {
     "name": "stdout",
     "output_type": "stream",
     "text": [
      "Image:C:\\UTD\\Projects\\TFNew\\TFODCourse-main\\Tensorflow\\workspace\\images\\collectedimages\\livelong\\livelong.80e832b7-ed15-11ec-8299-346f247ec1ca.jpg -> Annotation:C:/UTD/Projects/TFNew/TFODCourse-main/Tensorflow/workspace/images/collectedimages/livelong/livelong.80e832b7-ed15-11ec-8299-346f247ec1ca.xml\n",
      "Image:C:\\UTD\\Projects\\TFNew\\TFODCourse-main\\Tensorflow\\workspace\\images\\collectedimages\\livelong\\livelong.85bf4d30-ed15-11ec-bba3-346f247ec1ca.jpg -> Annotation:C:/UTD/Projects/TFNew/TFODCourse-main/Tensorflow/workspace/images/collectedimages/livelong/livelong.85bf4d30-ed15-11ec-bba3-346f247ec1ca.xml\n",
      "Image:C:\\UTD\\Projects\\TFNew\\TFODCourse-main\\Tensorflow\\workspace\\images\\collectedimages\\livelong\\livelong.821e317f-ed15-11ec-a811-346f247ec1ca.jpg -> Annotation:C:/UTD/Projects/TFNew/TFODCourse-main/Tensorflow/workspace/images/collectedimages/livelong/livelong.821e317f-ed15-11ec-a811-346f247ec1ca.xml\n",
      "Image:C:\\UTD\\Projects\\TFNew\\TFODCourse-main\\Tensorflow\\workspace\\images\\collectedimages\\livelong\\livelong.848a012e-ed15-11ec-8f74-346f247ec1ca.jpg -> Annotation:C:/UTD/Projects/TFNew/TFODCourse-main/Tensorflow/workspace/images/collectedimages/livelong/livelong.848a012e-ed15-11ec-8f74-346f247ec1ca.xml\n",
      "Image:C:\\UTD\\Projects\\TFNew\\TFODCourse-main\\Tensorflow\\workspace\\images\\collectedimages\\livelong\\livelong.8353f27a-ed15-11ec-89b0-346f247ec1ca.jpg -> Annotation:C:/UTD/Projects/TFNew/TFODCourse-main/Tensorflow/workspace/images/collectedimages/livelong/livelong.8353f27a-ed15-11ec-89b0-346f247ec1ca.xml\n",
      "Image:C:\\UTD\\Projects\\TFNew\\TFODCourse-main\\Tensorflow\\workspace\\images\\collectedimages\\thankyou\\thankyou.73a4e776-ed15-11ec-93b7-346f247ec1ca.jpg -> Annotation:C:/UTD/Projects/TFNew/TFODCourse-main/Tensorflow/workspace/images/collectedimages/thankyou/thankyou.73a4e776-ed15-11ec-93b7-346f247ec1ca.xml\n",
      "Image:C:\\UTD\\Projects\\TFNew\\TFODCourse-main\\Tensorflow\\workspace\\images\\collectedimages\\thankyou\\thankyou.74d996e8-ed15-11ec-ad82-346f247ec1ca.jpg -> Annotation:C:/UTD/Projects/TFNew/TFODCourse-main/Tensorflow/workspace/images/collectedimages/thankyou/thankyou.74d996e8-ed15-11ec-ad82-346f247ec1ca.xml\n",
      "Image:C:\\UTD\\Projects\\TFNew\\TFODCourse-main\\Tensorflow\\workspace\\images\\collectedimages\\thankyou\\thankyou.713a65b9-ed15-11ec-b650-346f247ec1ca.jpg -> Annotation:C:/UTD/Projects/TFNew/TFODCourse-main/Tensorflow/workspace/images/collectedimages/thankyou/thankyou.713a65b9-ed15-11ec-b650-346f247ec1ca.xml\n",
      "Image:C:\\UTD\\Projects\\TFNew\\TFODCourse-main\\Tensorflow\\workspace\\images\\collectedimages\\thankyou\\thankyou.726f4f6e-ed15-11ec-941a-346f247ec1ca.jpg -> Annotation:C:/UTD/Projects/TFNew/TFODCourse-main/Tensorflow/workspace/images/collectedimages/thankyou/thankyou.726f4f6e-ed15-11ec-941a-346f247ec1ca.xml\n",
      "Image:C:\\UTD\\Projects\\TFNew\\TFODCourse-main\\Tensorflow\\workspace\\images\\collectedimages\\thankyou\\thankyou.760f944f-ed15-11ec-b08c-346f247ec1ca.jpg -> Annotation:C:/UTD/Projects/TFNew/TFODCourse-main/Tensorflow/workspace/images/collectedimages/thankyou/thankyou.760f944f-ed15-11ec-b08c-346f247ec1ca.xml\n",
      "Image:C:\\UTD\\Projects\\TFNew\\TFODCourse-main\\Tensorflow\\workspace\\images\\collectedimages\\thumbsdown\\thumbsdown.62bc5a9d-ed15-11ec-ab76-346f247ec1ca.jpg -> Annotation:C:/UTD/Projects/TFNew/TFODCourse-main/Tensorflow/workspace/images/collectedimages/thumbsdown/thumbsdown.62bc5a9d-ed15-11ec-ab76-346f247ec1ca.xml\n",
      "Image:C:\\UTD\\Projects\\TFNew\\TFODCourse-main\\Tensorflow\\workspace\\images\\collectedimages\\thumbsdown\\thumbsdown.63f196ae-ed15-11ec-9e64-346f247ec1ca.jpg -> Annotation:C:/UTD/Projects/TFNew/TFODCourse-main/Tensorflow/workspace/images/collectedimages/thumbsdown/thumbsdown.63f196ae-ed15-11ec-9e64-346f247ec1ca.xml\n",
      "Image:C:\\UTD\\Projects\\TFNew\\TFODCourse-main\\Tensorflow\\workspace\\images\\collectedimages\\thumbsdown\\thumbsdown.665b43a3-ed15-11ec-85cd-346f247ec1ca.jpg -> Annotation:C:/UTD/Projects/TFNew/TFODCourse-main/Tensorflow/workspace/images/collectedimages/thumbsdown/thumbsdown.665b43a3-ed15-11ec-85cd-346f247ec1ca.xml\n",
      "Image:C:\\UTD\\Projects\\TFNew\\TFODCourse-main\\Tensorflow\\workspace\\images\\collectedimages\\thumbsdown\\thumbsdown.61859e40-ed15-11ec-bd56-346f247ec1ca.jpg -> Annotation:C:/UTD/Projects/TFNew/TFODCourse-main/Tensorflow/workspace/images/collectedimages/thumbsdown/thumbsdown.61859e40-ed15-11ec-bd56-346f247ec1ca.xml\n",
      "Image:C:\\UTD\\Projects\\TFNew\\TFODCourse-main\\Tensorflow\\workspace\\images\\collectedimages\\thumbsdown\\thumbsdown.65266bd5-ed15-11ec-b728-346f247ec1ca.jpg -> Annotation:C:/UTD/Projects/TFNew/TFODCourse-main/Tensorflow/workspace/images/collectedimages/thumbsdown/thumbsdown.65266bd5-ed15-11ec-b728-346f247ec1ca.xml\n",
      "Image:C:\\UTD\\Projects\\TFNew\\TFODCourse-main\\Tensorflow\\workspace\\images\\collectedimages\\thumbsup\\thumbsup.51e70044-ed15-11ec-8be1-346f247ec1ca.jpg -> Annotation:C:/UTD/Projects/TFNew/TFODCourse-main/Tensorflow/workspace/images/collectedimages/thumbsup/thumbsup.51e70044-ed15-11ec-8be1-346f247ec1ca.xml\n",
      "Image:C:\\UTD\\Projects\\TFNew\\TFODCourse-main\\Tensorflow\\workspace\\images\\collectedimages\\thumbsup\\thumbsup.56baf592-ed15-11ec-a375-346f247ec1ca.jpg -> Annotation:C:/UTD/Projects/TFNew/TFODCourse-main/Tensorflow/workspace/images/collectedimages/thumbsup/thumbsup.56baf592-ed15-11ec-a375-346f247ec1ca.xml\n",
      "Image:C:\\UTD\\Projects\\TFNew\\TFODCourse-main\\Tensorflow\\workspace\\images\\collectedimages\\thumbsup\\thumbsup.531b6fa0-ed15-11ec-b99d-346f247ec1ca.jpg -> Annotation:C:/UTD/Projects/TFNew/TFODCourse-main/Tensorflow/workspace/images/collectedimages/thumbsup/thumbsup.531b6fa0-ed15-11ec-b99d-346f247ec1ca.xml\n",
      "Image:C:\\UTD\\Projects\\TFNew\\TFODCourse-main\\Tensorflow\\workspace\\images\\collectedimages\\thumbsup\\thumbsup.55873f8a-ed15-11ec-a8f8-346f247ec1ca.jpg -> Annotation:C:/UTD/Projects/TFNew/TFODCourse-main/Tensorflow/workspace/images/collectedimages/thumbsup/thumbsup.55873f8a-ed15-11ec-a8f8-346f247ec1ca.xml\n",
      "Image:C:\\UTD\\Projects\\TFNew\\TFODCourse-main\\Tensorflow\\workspace\\images\\collectedimages\\thumbsup\\thumbsup.545241f9-ed15-11ec-9ece-346f247ec1ca.jpg -> Annotation:C:/UTD/Projects/TFNew/TFODCourse-main/Tensorflow/workspace/images/collectedimages/thumbsup/thumbsup.545241f9-ed15-11ec-9ece-346f247ec1ca.xml\n"
     ]
    }
   ],
   "source": [
    "!cd {LABELIMG_PATH} && python labelImg.py"
   ]
  },
  {
   "cell_type": "markdown",
   "metadata": {},
   "source": [
    "# 6. Move them into a Training and Testing Partition"
   ]
  },
  {
   "cell_type": "markdown",
   "metadata": {},
   "source": [
    "# OPTIONAL - 7. Compress them for Colab Training"
   ]
  },
  {
   "cell_type": "code",
   "execution_count": 12,
   "metadata": {},
   "outputs": [],
   "source": [
    "TRAIN_PATH = os.path.join('Tensorflow', 'workspace', 'images', 'train')\n",
    "TEST_PATH = os.path.join('Tensorflow', 'workspace', 'images', 'test')\n",
    "ARCHIVE_PATH = os.path.join('Tensorflow', 'workspace', 'images', 'archive.tar.gz')"
   ]
  },
  {
   "cell_type": "code",
   "execution_count": 21,
   "metadata": {},
   "outputs": [],
   "source": [
    "!tar -czf {ARCHIVE_PATH} {TRAIN_PATH} {TEST_PATH}"
   ]
  },
  {
   "cell_type": "code",
   "execution_count": null,
   "metadata": {},
   "outputs": [],
   "source": []
  }
 ],
 "metadata": {
  "kernelspec": {
   "display_name": "tfod",
   "language": "python",
   "name": "tfod"
  },
  "language_info": {
   "codemirror_mode": {
    "name": "ipython",
    "version": 3
   },
   "file_extension": ".py",
   "mimetype": "text/x-python",
   "name": "python",
   "nbconvert_exporter": "python",
   "pygments_lexer": "ipython3",
   "version": "3.9.12"
  }
 },
 "nbformat": 4,
 "nbformat_minor": 2
}
